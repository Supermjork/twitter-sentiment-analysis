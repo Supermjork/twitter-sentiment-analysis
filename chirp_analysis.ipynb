{
 "cells": [
  {
   "cell_type": "code",
   "execution_count": 1,
   "metadata": {},
   "outputs": [],
   "source": [
    "# Importing libraries to work with\n",
    "import re\n",
    "import os\n",
    "import nltk\n",
    "import spacy\n",
    "import torch\n",
    "import random\n",
    "import numpy as np\n",
    "import scipy as sci\n",
    "import polars as pl\n",
    "import pandas as pd\n",
    "import gensim as gns\n",
    "import seaborn as sns\n",
    "import matplotlib as mpl\n",
    "import matplotlib.pyplot as plt\n",
    "\n",
    "# For the sake of Preprocessing\n",
    "from nltk.stem import WordNetLemmatizer\n",
    "from nltk.tokenize import word_tokenize\n",
    "\n",
    "# Word Embedding\n",
    "from gensim.models import Word2Vec\n",
    "from gensim.models import KeyedVectors\n",
    "\n",
    "# Sklearn\n",
    "from sklearn.decomposition import PCA"
   ]
  },
  {
   "cell_type": "code",
   "execution_count": 2,
   "metadata": {},
   "outputs": [
    {
     "name": "stdout",
     "output_type": "stream",
     "text": [
      "NumPy Version: 1.26.4\n",
      "Polars Version: 1.12.0\n",
      "MatPlotLib Version: 3.9.2\n",
      "Seaborn Version: 0.13.2\n",
      "PyTorch Version: 2.5.1+cpu\n",
      "NLTK Version: 3.9.1\n",
      "SpaCy Version: 3.8.2\n",
      "Gensim Version: 4.3.3\n",
      "SciPy Version: 1.13.1\n"
     ]
    }
   ],
   "source": [
    "# Display the libraries' versions used in this notebook\n",
    "version_list = {\"NumPy Version:\": np.__version__,\n",
    "                \"Polars Version:\": pl.__version__,\n",
    "                \"MatPlotLib Version:\": mpl.__version__,\n",
    "                \"Seaborn Version:\": sns.__version__,\n",
    "                \"PyTorch Version:\": torch.__version__,\n",
    "                \"NLTK Version:\": nltk.__version__,\n",
    "                \"SpaCy Version:\": spacy.__version__,\n",
    "                \"Gensim Version:\": gns.__version__,\n",
    "                \"SciPy Version:\": sci.__version__}\n",
    "\n",
    "for (k, v) in version_list.items():\n",
    "    print(k, v)"
   ]
  },
  {
   "cell_type": "code",
   "execution_count": 3,
   "metadata": {},
   "outputs": [
    {
     "name": "stdout",
     "output_type": "stream",
     "text": [
      "Directory Exists.\n",
      "Punctuation Data Exists.\n",
      "Stopwords Package Exists.\n",
      "Wordnet Package Exists.\n"
     ]
    }
   ],
   "source": [
    "# Defining path to install NLTK libraries in\n",
    "NLTK_LIB_PATH = \".\\\\venv_nlp\\\\Lib\\\\nltk_data\"\n",
    "\n",
    "# Defining download function\n",
    "def download_libs():\n",
    "    # Download extra parts of the library to use\n",
    "    try:\n",
    "        nltk.data.find(\"tokenizers\\\\punkt.zip\")                     # Punctuation\n",
    "        print(\"Punctuation Data Exists.\")\n",
    "    except LookupError:\n",
    "        nltk.download('punkt', download_dir = NLTK_LIB_PATH)\n",
    "\n",
    "    try:\n",
    "        nltk.data.find(\"corpora\\\\stopwords.zip\")                    # Stopwords\n",
    "        print(\"Stopwords Package Exists.\")\n",
    "    except LookupError:\n",
    "        nltk.download('stopwords', download_dir = NLTK_LIB_PATH)\n",
    "\n",
    "    try:\n",
    "        nltk.data.find(\"corpora\\\\wordnet.zip\")                      # Corpus\n",
    "        print(\"Wordnet Package Exists.\")\n",
    "    except LookupError:\n",
    "        nltk.download('wordnet', download_dir = NLTK_LIB_PATH)\n",
    "\n",
    "try:\n",
    "    os.mkdir(NLTK_LIB_PATH)\n",
    "\n",
    "    print(\"Directory for NLTK Packages Created.. Installing (Hopefully)\")\n",
    "    download_libs()\n",
    "except FileExistsError:\n",
    "    print(\"Directory Exists.\")\n",
    "    download_libs()\n",
    "except:\n",
    "    print(\"Couldn't Make Directory.\")\n",
    "    exit()"
   ]
  },
  {
   "cell_type": "markdown",
   "metadata": {},
   "source": [
    "# Data Loading\n",
    "Importing our csv into our workspace."
   ]
  },
  {
   "cell_type": "code",
   "execution_count": 4,
   "metadata": {},
   "outputs": [],
   "source": [
    "# Loading dataframe\n",
    "text_data = pl.read_csv(\"datasets/twitter_training.csv\", has_header=False, new_columns = [\"tweet_id\", \"entity\", \"sentiment\", \"tweet_content\"])"
   ]
  },
  {
   "cell_type": "code",
   "execution_count": 5,
   "metadata": {},
   "outputs": [
    {
     "data": {
      "text/html": [
       "<div><style>\n",
       ".dataframe > thead > tr,\n",
       ".dataframe > tbody > tr {\n",
       "  text-align: right;\n",
       "  white-space: pre-wrap;\n",
       "}\n",
       "</style>\n",
       "<small>shape: (10, 4)</small><table border=\"1\" class=\"dataframe\"><thead><tr><th>tweet_id</th><th>entity</th><th>sentiment</th><th>tweet_content</th></tr><tr><td>i64</td><td>str</td><td>str</td><td>str</td></tr></thead><tbody><tr><td>2401</td><td>&quot;Borderlands&quot;</td><td>&quot;Positive&quot;</td><td>&quot;im getting on borderlands and …</td></tr><tr><td>2401</td><td>&quot;Borderlands&quot;</td><td>&quot;Positive&quot;</td><td>&quot;I am coming to the borders and…</td></tr><tr><td>2401</td><td>&quot;Borderlands&quot;</td><td>&quot;Positive&quot;</td><td>&quot;im getting on borderlands and …</td></tr><tr><td>2401</td><td>&quot;Borderlands&quot;</td><td>&quot;Positive&quot;</td><td>&quot;im coming on borderlands and i…</td></tr><tr><td>2401</td><td>&quot;Borderlands&quot;</td><td>&quot;Positive&quot;</td><td>&quot;im getting on borderlands 2 an…</td></tr><tr><td>2401</td><td>&quot;Borderlands&quot;</td><td>&quot;Positive&quot;</td><td>&quot;im getting into borderlands an…</td></tr><tr><td>2402</td><td>&quot;Borderlands&quot;</td><td>&quot;Positive&quot;</td><td>&quot;So I spent a few hours making …</td></tr><tr><td>2402</td><td>&quot;Borderlands&quot;</td><td>&quot;Positive&quot;</td><td>&quot;So I spent a couple of hours d…</td></tr><tr><td>2402</td><td>&quot;Borderlands&quot;</td><td>&quot;Positive&quot;</td><td>&quot;So I spent a few hours doing s…</td></tr><tr><td>2402</td><td>&quot;Borderlands&quot;</td><td>&quot;Positive&quot;</td><td>&quot;So I spent a few hours making …</td></tr></tbody></table></div>"
      ],
      "text/plain": [
       "shape: (10, 4)\n",
       "┌──────────┬─────────────┬───────────┬─────────────────────────────────┐\n",
       "│ tweet_id ┆ entity      ┆ sentiment ┆ tweet_content                   │\n",
       "│ ---      ┆ ---         ┆ ---       ┆ ---                             │\n",
       "│ i64      ┆ str         ┆ str       ┆ str                             │\n",
       "╞══════════╪═════════════╪═══════════╪═════════════════════════════════╡\n",
       "│ 2401     ┆ Borderlands ┆ Positive  ┆ im getting on borderlands and … │\n",
       "│ 2401     ┆ Borderlands ┆ Positive  ┆ I am coming to the borders and… │\n",
       "│ 2401     ┆ Borderlands ┆ Positive  ┆ im getting on borderlands and … │\n",
       "│ 2401     ┆ Borderlands ┆ Positive  ┆ im coming on borderlands and i… │\n",
       "│ 2401     ┆ Borderlands ┆ Positive  ┆ im getting on borderlands 2 an… │\n",
       "│ 2401     ┆ Borderlands ┆ Positive  ┆ im getting into borderlands an… │\n",
       "│ 2402     ┆ Borderlands ┆ Positive  ┆ So I spent a few hours making … │\n",
       "│ 2402     ┆ Borderlands ┆ Positive  ┆ So I spent a couple of hours d… │\n",
       "│ 2402     ┆ Borderlands ┆ Positive  ┆ So I spent a few hours doing s… │\n",
       "│ 2402     ┆ Borderlands ┆ Positive  ┆ So I spent a few hours making … │\n",
       "└──────────┴─────────────┴───────────┴─────────────────────────────────┘"
      ]
     },
     "execution_count": 5,
     "metadata": {},
     "output_type": "execute_result"
    }
   ],
   "source": [
    "# Viewing first 10 rows\n",
    "text_data.head(10)"
   ]
  },
  {
   "cell_type": "code",
   "execution_count": 6,
   "metadata": {},
   "outputs": [
    {
     "data": {
      "text/html": [
       "<div><style>\n",
       ".dataframe > thead > tr,\n",
       ".dataframe > tbody > tr {\n",
       "  text-align: right;\n",
       "  white-space: pre-wrap;\n",
       "}\n",
       "</style>\n",
       "<small>shape: (9, 5)</small><table border=\"1\" class=\"dataframe\"><thead><tr><th>statistic</th><th>tweet_id</th><th>entity</th><th>sentiment</th><th>tweet_content</th></tr><tr><td>str</td><td>f64</td><td>str</td><td>str</td><td>str</td></tr></thead><tbody><tr><td>&quot;count&quot;</td><td>74682.0</td><td>&quot;74682&quot;</td><td>&quot;74682&quot;</td><td>&quot;73996&quot;</td></tr><tr><td>&quot;null_count&quot;</td><td>0.0</td><td>&quot;0&quot;</td><td>&quot;0&quot;</td><td>&quot;686&quot;</td></tr><tr><td>&quot;mean&quot;</td><td>6432.586165</td><td>null</td><td>null</td><td>null</td></tr><tr><td>&quot;std&quot;</td><td>3740.42787</td><td>null</td><td>null</td><td>null</td></tr><tr><td>&quot;min&quot;</td><td>1.0</td><td>&quot;Amazon&quot;</td><td>&quot;Irrelevant&quot;</td><td>&quot; &quot;</td></tr><tr><td>&quot;25%&quot;</td><td>3195.0</td><td>null</td><td>null</td><td>null</td></tr><tr><td>&quot;50%&quot;</td><td>6422.0</td><td>null</td><td>null</td><td>null</td></tr><tr><td>&quot;75%&quot;</td><td>9601.0</td><td>null</td><td>null</td><td>null</td></tr><tr><td>&quot;max&quot;</td><td>13200.0</td><td>&quot;johnson&amp;johnson&quot;</td><td>&quot;Positive&quot;</td><td>&quot;🧻 at Home Depot on Hanley... I…</td></tr></tbody></table></div>"
      ],
      "text/plain": [
       "shape: (9, 5)\n",
       "┌────────────┬─────────────┬─────────────────┬────────────┬─────────────────────────────────┐\n",
       "│ statistic  ┆ tweet_id    ┆ entity          ┆ sentiment  ┆ tweet_content                   │\n",
       "│ ---        ┆ ---         ┆ ---             ┆ ---        ┆ ---                             │\n",
       "│ str        ┆ f64         ┆ str             ┆ str        ┆ str                             │\n",
       "╞════════════╪═════════════╪═════════════════╪════════════╪═════════════════════════════════╡\n",
       "│ count      ┆ 74682.0     ┆ 74682           ┆ 74682      ┆ 73996                           │\n",
       "│ null_count ┆ 0.0         ┆ 0               ┆ 0          ┆ 686                             │\n",
       "│ mean       ┆ 6432.586165 ┆ null            ┆ null       ┆ null                            │\n",
       "│ std        ┆ 3740.42787  ┆ null            ┆ null       ┆ null                            │\n",
       "│ min        ┆ 1.0         ┆ Amazon          ┆ Irrelevant ┆                                 │\n",
       "│ 25%        ┆ 3195.0      ┆ null            ┆ null       ┆ null                            │\n",
       "│ 50%        ┆ 6422.0      ┆ null            ┆ null       ┆ null                            │\n",
       "│ 75%        ┆ 9601.0      ┆ null            ┆ null       ┆ null                            │\n",
       "│ max        ┆ 13200.0     ┆ johnson&johnson ┆ Positive   ┆ 🧻 at Home Depot on Hanley...   │\n",
       "│            ┆             ┆                 ┆            ┆ I…                              │\n",
       "└────────────┴─────────────┴─────────────────┴────────────┴─────────────────────────────────┘"
      ]
     },
     "execution_count": 6,
     "metadata": {},
     "output_type": "execute_result"
    }
   ],
   "source": [
    "# Checking for nulls\n",
    "text_data.describe()"
   ]
  },
  {
   "cell_type": "markdown",
   "metadata": {},
   "source": [
    "Considering our Null count within the tweet content column is practically $<1\\%$ (to be exact $0.927\\%$), we can safely drop those rows"
   ]
  },
  {
   "cell_type": "code",
   "execution_count": 7,
   "metadata": {},
   "outputs": [],
   "source": [
    "# Dropping nulls\n",
    "text_data = text_data.drop_nulls('tweet_content')\n",
    "text_data = text_data.drop('tweet_id')"
   ]
  },
  {
   "cell_type": "code",
   "execution_count": 8,
   "metadata": {},
   "outputs": [
    {
     "data": {
      "text/html": [
       "<div><style>\n",
       ".dataframe > thead > tr,\n",
       ".dataframe > tbody > tr {\n",
       "  text-align: right;\n",
       "  white-space: pre-wrap;\n",
       "}\n",
       "</style>\n",
       "<small>shape: (9, 4)</small><table border=\"1\" class=\"dataframe\"><thead><tr><th>statistic</th><th>entity</th><th>sentiment</th><th>tweet_content</th></tr><tr><td>str</td><td>str</td><td>str</td><td>str</td></tr></thead><tbody><tr><td>&quot;count&quot;</td><td>&quot;73996&quot;</td><td>&quot;73996&quot;</td><td>&quot;73996&quot;</td></tr><tr><td>&quot;null_count&quot;</td><td>&quot;0&quot;</td><td>&quot;0&quot;</td><td>&quot;0&quot;</td></tr><tr><td>&quot;mean&quot;</td><td>null</td><td>null</td><td>null</td></tr><tr><td>&quot;std&quot;</td><td>null</td><td>null</td><td>null</td></tr><tr><td>&quot;min&quot;</td><td>&quot;Amazon&quot;</td><td>&quot;Irrelevant&quot;</td><td>&quot; &quot;</td></tr><tr><td>&quot;25%&quot;</td><td>null</td><td>null</td><td>null</td></tr><tr><td>&quot;50%&quot;</td><td>null</td><td>null</td><td>null</td></tr><tr><td>&quot;75%&quot;</td><td>null</td><td>null</td><td>null</td></tr><tr><td>&quot;max&quot;</td><td>&quot;johnson&amp;johnson&quot;</td><td>&quot;Positive&quot;</td><td>&quot;🧻 at Home Depot on Hanley... I…</td></tr></tbody></table></div>"
      ],
      "text/plain": [
       "shape: (9, 4)\n",
       "┌────────────┬─────────────────┬────────────┬─────────────────────────────────┐\n",
       "│ statistic  ┆ entity          ┆ sentiment  ┆ tweet_content                   │\n",
       "│ ---        ┆ ---             ┆ ---        ┆ ---                             │\n",
       "│ str        ┆ str             ┆ str        ┆ str                             │\n",
       "╞════════════╪═════════════════╪════════════╪═════════════════════════════════╡\n",
       "│ count      ┆ 73996           ┆ 73996      ┆ 73996                           │\n",
       "│ null_count ┆ 0               ┆ 0          ┆ 0                               │\n",
       "│ mean       ┆ null            ┆ null       ┆ null                            │\n",
       "│ std        ┆ null            ┆ null       ┆ null                            │\n",
       "│ min        ┆ Amazon          ┆ Irrelevant ┆                                 │\n",
       "│ 25%        ┆ null            ┆ null       ┆ null                            │\n",
       "│ 50%        ┆ null            ┆ null       ┆ null                            │\n",
       "│ 75%        ┆ null            ┆ null       ┆ null                            │\n",
       "│ max        ┆ johnson&johnson ┆ Positive   ┆ 🧻 at Home Depot on Hanley...   │\n",
       "│            ┆                 ┆            ┆ I…                              │\n",
       "└────────────┴─────────────────┴────────────┴─────────────────────────────────┘"
      ]
     },
     "execution_count": 8,
     "metadata": {},
     "output_type": "execute_result"
    }
   ],
   "source": [
    "# Viewing the available rows and their information\n",
    "text_data.describe()"
   ]
  },
  {
   "cell_type": "markdown",
   "metadata": {},
   "source": [
    "# Preprocessing\n",
    "Preprocessing the text so it's somewhat cleaner than when obtianed, so that the model doesn't struggle (Instead, we will :D )."
   ]
  },
  {
   "cell_type": "code",
   "execution_count": 9,
   "metadata": {},
   "outputs": [],
   "source": [
    "# Create a stopword set\n",
    "stopwords = set(nltk.corpus.stopwords.words('english'))\n",
    "stopwords.add(\"im\")"
   ]
  },
  {
   "cell_type": "code",
   "execution_count": 10,
   "metadata": {},
   "outputs": [],
   "source": [
    "# Define a regex function to remove special characters, links, etc.\n",
    "def regex_cleanse(text: str):\n",
    "    # URLS\n",
    "    text = re.sub(r'https\\S+', '', text)\n",
    "\n",
    "    # @<username>\n",
    "    text = re.sub(r'@\\w+', '', text)\n",
    "\n",
    "    # #<word>\n",
    "    text = re.sub(r'#\\w+', '', text)\n",
    "\n",
    "    # One character that doesn't belong to word or whitespace\n",
    "    text = re.sub(r'[^\\w\\s]', '', text)\n",
    "\n",
    "    # Attempt to remove linked pictures URLs\n",
    "    text = re.sub(r'pic\\w+', '', text)\n",
    "    text = \" \".join([word for word in text.split() if word not in stopwords])\n",
    "\n",
    "    return text"
   ]
  },
  {
   "cell_type": "code",
   "execution_count": 11,
   "metadata": {},
   "outputs": [],
   "source": [
    "# Tokenisation Function\n",
    "def tokeniser(text):\n",
    "    return word_tokenize(text)"
   ]
  },
  {
   "cell_type": "code",
   "execution_count": 12,
   "metadata": {},
   "outputs": [],
   "source": [
    "# Loading language model\n",
    "model = spacy.load('en_core_web_sm')\n",
    "\n",
    "# Lemmatiser\n",
    "def lemma(tokens):\n",
    "    doc = model(tokens)\n",
    "    return [token.lemma_ for token in doc]"
   ]
  },
  {
   "cell_type": "code",
   "execution_count": 13,
   "metadata": {},
   "outputs": [],
   "source": [
    "# Removing emojis\n",
    "def remove_emoji(string):\n",
    "    emoji_pattern = re.compile(\"[\"\n",
    "                           u\"\\U0001F600-\\U0001F64F\"  # emoticons\n",
    "                           u\"\\U0001F300-\\U0001F5FF\"  # symbols & pictographs\n",
    "                           u\"\\U0001F680-\\U0001F6FF\"  # transport & map symbols\n",
    "                           u\"\\U0001F1E0-\\U0001F1FF\"  # flags (iOS)\n",
    "                           u\"\\U00002702-\\U000027B0\"\n",
    "                           u\"\\U000024C2-\\U0001F251\"\n",
    "                           \"]+\", flags=re.UNICODE)\n",
    "    return emoji_pattern.sub(r'', string)"
   ]
  },
  {
   "cell_type": "code",
   "execution_count": 14,
   "metadata": {},
   "outputs": [],
   "source": [
    "# Define a text preprocessing function to apply to all rows\n",
    "def preprocess_text(text: str) -> list[str]:\n",
    "    text = regex_cleanse(text.lower())\n",
    "    text = remove_emoji(text)\n",
    "    text = lemma(text)\n",
    "    #text = tokeniser(text)\n",
    "    return text"
   ]
  },
  {
   "cell_type": "code",
   "execution_count": 15,
   "metadata": {},
   "outputs": [],
   "source": [
    "# Creating a cleaned-preprocessed dataset\n",
    "cleaned = text_data.with_columns(pl.col('tweet_content').map_elements(preprocess_text, return_dtype = list[str]))"
   ]
  },
  {
   "cell_type": "code",
   "execution_count": 16,
   "metadata": {},
   "outputs": [
    {
     "data": {
      "text/html": [
       "<div><style>\n",
       ".dataframe > thead > tr,\n",
       ".dataframe > tbody > tr {\n",
       "  text-align: right;\n",
       "  white-space: pre-wrap;\n",
       "}\n",
       "</style>\n",
       "<small>shape: (5, 3)</small><table border=\"1\" class=\"dataframe\"><thead><tr><th>entity</th><th>sentiment</th><th>tweet_content</th></tr><tr><td>str</td><td>str</td><td>list[str]</td></tr></thead><tbody><tr><td>&quot;Borderlands&quot;</td><td>&quot;Positive&quot;</td><td>[&quot;get&quot;, &quot;borderland&quot;, &quot;murder&quot;]</td></tr><tr><td>&quot;Borderlands&quot;</td><td>&quot;Positive&quot;</td><td>[&quot;come&quot;, &quot;border&quot;, &quot;kill&quot;]</td></tr><tr><td>&quot;Borderlands&quot;</td><td>&quot;Positive&quot;</td><td>[&quot;get&quot;, &quot;borderland&quot;, &quot;kill&quot;]</td></tr><tr><td>&quot;Borderlands&quot;</td><td>&quot;Positive&quot;</td><td>[&quot;come&quot;, &quot;borderland&quot;, &quot;murder&quot;]</td></tr><tr><td>&quot;Borderlands&quot;</td><td>&quot;Positive&quot;</td><td>[&quot;get&quot;, &quot;borderland&quot;, … &quot;murder&quot;]</td></tr></tbody></table></div>"
      ],
      "text/plain": [
       "shape: (5, 3)\n",
       "┌─────────────┬───────────┬─────────────────────────────────┐\n",
       "│ entity      ┆ sentiment ┆ tweet_content                   │\n",
       "│ ---         ┆ ---       ┆ ---                             │\n",
       "│ str         ┆ str       ┆ list[str]                       │\n",
       "╞═════════════╪═══════════╪═════════════════════════════════╡\n",
       "│ Borderlands ┆ Positive  ┆ [\"get\", \"borderland\", \"murder\"… │\n",
       "│ Borderlands ┆ Positive  ┆ [\"come\", \"border\", \"kill\"]      │\n",
       "│ Borderlands ┆ Positive  ┆ [\"get\", \"borderland\", \"kill\"]   │\n",
       "│ Borderlands ┆ Positive  ┆ [\"come\", \"borderland\", \"murder… │\n",
       "│ Borderlands ┆ Positive  ┆ [\"get\", \"borderland\", … \"murde… │\n",
       "└─────────────┴───────────┴─────────────────────────────────┘"
      ]
     },
     "execution_count": 16,
     "metadata": {},
     "output_type": "execute_result"
    }
   ],
   "source": [
    "# Viewing\n",
    "cleaned.head()"
   ]
  },
  {
   "cell_type": "markdown",
   "metadata": {},
   "source": [
    "# Word Embedding\n",
    "Word Embedding"
   ]
  },
  {
   "cell_type": "code",
   "execution_count": 58,
   "metadata": {},
   "outputs": [
    {
     "data": {
      "text/plain": [
       "['get', 'borderland', 'murder']"
      ]
     },
     "execution_count": 58,
     "metadata": {},
     "output_type": "execute_result"
    }
   ],
   "source": [
    "# Creating a series of vectors from every sentence\n",
    "model_ready_text = cleaned['tweet_content'].to_list()\n",
    "\n",
    "model_ready_text[0]"
   ]
  },
  {
   "cell_type": "code",
   "execution_count": 89,
   "metadata": {},
   "outputs": [],
   "source": [
    "# Training a Continuous Bag of Words, Word Embedding\n",
    "word2vec_cbow = Word2Vec(model_ready_text, vector_size = 100,  sg = 0, workers = 10, window = 16, epochs = 250)"
   ]
  },
  {
   "cell_type": "code",
   "execution_count": 90,
   "metadata": {},
   "outputs": [
    {
     "data": {
      "text/plain": [
       "array([ 4.1708    ,  2.5556412 , -2.7784147 , -0.32316104,  0.68076813,\n",
       "       -0.6993625 ,  2.1082616 ,  0.59875506, -7.843453  , -5.0200825 ,\n",
       "        0.63230693, -4.8317833 ,  1.7556518 ,  4.922678  , -2.6182528 ,\n",
       "       -0.40221888,  1.9318507 , -5.672102  ,  2.7366457 ,  7.310253  ,\n",
       "        3.1390064 ,  0.9712022 ,  3.93474   ,  7.0052023 , -0.0545602 ,\n",
       "        2.5172265 ,  0.1559714 , -1.3534343 , -2.781472  , -5.079161  ,\n",
       "        0.09238643,  2.6379752 , -3.797446  ,  5.356047  ,  2.8157248 ,\n",
       "       -8.840283  ,  0.7711648 ,  2.4726272 , -0.19333589,  0.43281356,\n",
       "        1.1702726 ,  1.6487303 , -3.895999  , -2.4087818 , -3.433463  ,\n",
       "        1.5381551 ,  9.362811  , -3.0132117 , -5.122207  ,  0.55872405,\n",
       "       -2.7374556 ,  1.2788041 ,  0.46195006,  2.718978  , -5.7839575 ,\n",
       "        3.3545468 ,  8.814933  ,  0.6021142 , -4.5628424 , -2.477504  ,\n",
       "       -4.9968066 , -2.0850794 ,  1.1836935 ,  3.753556  ,  5.0457916 ,\n",
       "       -0.5768391 ,  7.2305717 , -0.4890281 , -2.6039374 , -2.751511  ,\n",
       "        2.5230026 , -0.7766419 ,  2.3954072 , -3.7233503 , -3.0100577 ,\n",
       "        6.3647504 , -4.1325717 , -2.3838475 ,  0.89601266, -2.5250149 ,\n",
       "       -2.7241714 ,  3.2898614 ,  2.9223683 , -3.6872885 , -6.0550127 ,\n",
       "       -2.7146933 ,  6.397105  ,  4.1545663 , -1.5552038 , -2.5575333 ,\n",
       "        0.550461  ,  1.7240388 ,  4.139481  ,  5.4896092 , -6.852033  ,\n",
       "        7.2089787 , -3.729543  ,  0.73726785,  3.3451498 , -1.2478535 ],\n",
       "      dtype=float32)"
      ]
     },
     "execution_count": 90,
     "metadata": {},
     "output_type": "execute_result"
    }
   ],
   "source": [
    "# Viewing the vector for the word\n",
    "word2vec_cbow.wv['nvidia']"
   ]
  },
  {
   "cell_type": "code",
   "execution_count": 91,
   "metadata": {},
   "outputs": [],
   "source": [
    "# Training a Skip-gram Word Embedding\n",
    "word2vec_skgrm = Word2Vec(model_ready_text, vector_size = 100, sg = 1, workers = 10, window = 16, epochs = 250)"
   ]
  },
  {
   "cell_type": "code",
   "execution_count": 92,
   "metadata": {},
   "outputs": [
    {
     "data": {
      "text/plain": [
       "array([ 0.36067045, -0.02757801,  0.2637943 , -0.14044571,  0.18617763,\n",
       "       -0.3872232 , -0.1672852 , -0.00646967, -0.31155512, -0.11834538,\n",
       "       -0.25345495, -0.4889921 , -0.12653701, -0.15870528, -0.12814352,\n",
       "       -0.27499855,  0.15369292, -0.14637119,  0.22252946, -0.3437335 ,\n",
       "       -0.46725476, -0.27716365,  0.12446845,  0.18798922,  0.0077842 ,\n",
       "       -0.36554214,  0.16256373,  0.05538539,  0.10231612, -0.6549197 ,\n",
       "       -0.3052411 ,  0.3245241 , -0.70517105, -0.366098  ,  0.25235167,\n",
       "       -0.17180607,  0.13409497, -0.15752092, -0.03828128, -0.7561184 ,\n",
       "       -0.23452468, -0.43283162,  0.316687  ,  0.5369664 ,  0.51968396,\n",
       "        0.40691963, -0.06329848,  0.18613558, -0.3726863 ,  0.01602807,\n",
       "       -0.24047358, -0.28324184,  0.2925151 , -0.06258814, -0.2400235 ,\n",
       "       -0.34742317, -0.226932  ,  0.5308617 ,  0.3659496 ,  0.25783062,\n",
       "       -0.2060195 ,  0.2726472 ,  0.04867858,  0.11178032, -0.27144846,\n",
       "        0.19736768,  0.53279835, -0.00855964, -0.03478643,  0.51651883,\n",
       "        0.04631402,  0.1335724 ,  0.06252148,  0.3445173 , -0.3911992 ,\n",
       "       -0.5645939 ,  0.18357638,  0.05350281,  0.18513958, -0.36761275,\n",
       "       -0.34625122,  0.17935328,  0.07096395,  0.16340376, -0.3255014 ,\n",
       "        0.83327526, -0.0663481 ,  0.42261603,  0.27052504,  0.2509449 ,\n",
       "        0.41839558,  0.01366469, -0.09088878, -0.01319431, -0.25164926,\n",
       "       -0.12206304,  0.30282256, -0.36001185, -0.12662086,  0.20259291],\n",
       "      dtype=float32)"
      ]
     },
     "execution_count": 92,
     "metadata": {},
     "output_type": "execute_result"
    }
   ],
   "source": [
    "word2vec_skgrm.wv['nvidia']"
   ]
  },
  {
   "cell_type": "code",
   "execution_count": 93,
   "metadata": {},
   "outputs": [
    {
     "data": {
      "text/plain": [
       "12157"
      ]
     },
     "execution_count": 93,
     "metadata": {},
     "output_type": "execute_result"
    }
   ],
   "source": [
    "corpus = list(word2vec_cbow.wv.index_to_key)\n",
    "\n",
    "len(corpus)"
   ]
  },
  {
   "cell_type": "code",
   "execution_count": 94,
   "metadata": {},
   "outputs": [
    {
     "name": "stdout",
     "output_type": "stream",
     "text": [
      "['t2', 'easy', 'introduce', '4x', 'apk', 'speechless', 'gen', 'versus', 'chin', 'ful', 'coulda', 'mystic', 'packaging', 'lahm', 'hotline', 'joel', 'rubbish', 'pleased', 'ddddd', 'ability', 'love', 'exchange', 'track', 'caitlyn', 'revenant', 'redirect', 'sunt', 'daioh', 'hardware', 'canofworm', 'mechathun', 'crore', 'bestfriend', '50', 'momentarily']\n"
     ]
    }
   ],
   "source": [
    "sample_size = 35\n",
    "\n",
    "random_word_sample = random.sample(corpus, sample_size)\n",
    "\n",
    "print(random_word_sample)"
   ]
  },
  {
   "cell_type": "code",
   "execution_count": 95,
   "metadata": {},
   "outputs": [],
   "source": [
    "# Making a set of similar words per word for each model\n",
    "similar_cbows = {word: word2vec_cbow.wv.most_similar(word, topn = 5) for word in random_word_sample}\n",
    "similar_skgrm = {word: word2vec_skgrm.wv.most_similar(word, topn = 5) for word in random_word_sample}"
   ]
  },
  {
   "cell_type": "code",
   "execution_count": 96,
   "metadata": {},
   "outputs": [
    {
     "name": "stdout",
     "output_type": "stream",
     "text": [
      "{'t2': [('regional', 0.7819893956184387), ('pasa', 0.48751360177993774), ('ellesmere', 0.4631443917751312), ('7001', 0.44726207852363586), ('sorta', 0.4386419355869293)], 'easy': [('social', 0.35527071356773376), ('sbmm', 0.3409755825996399), ('organic', 0.3260591924190521), ('emi', 0.31725916266441345), ('rbl', 0.3138221800327301)], 'introduce': [('lean', 0.3996814489364624), ('discrete', 0.3447134792804718), ('bestseller', 0.3425811529159546), ('market', 0.3385283350944519), ('dynasty', 0.33483994007110596)], '4x': [('timeless', 0.994050145149231), ('nozdormu', 0.9885267019271851), ('beautifully', 0.3779163658618927), ('resurrect', 0.36653876304626465), ('ttk', 0.3569478392601013)], 'apk': [('joe', 0.40309974551200867), ('thevergecom20201017215', 0.38364189863204956), ('apps', 0.3836152255535126), ('warzonemod', 0.38346970081329346), ('scarborough', 0.37348684668540955)], 'speechless': [('nibble', 0.6028828620910645), ('doose', 0.36039483547210693), ('pour', 0.3589402437210083), ('26', 0.3555885851383209), ('w', 0.3415972888469696)], 'gen': [('gene', 0.7328011989593506), ('woohoooo', 0.4153137505054474), ('nextgen', 0.38668280839920044), ('ps5', 0.3744071125984192), ('generation', 0.3702785074710846)], 'versus': [('creation', 0.39254385232925415), ('ellie', 0.3841959834098816), ('wallpaper', 0.3632121980190277), ('highlight', 0.34506458044052124), ('genesis', 0.33479824662208557)], 'chin': [('hammer', 0.6386921405792236), ('contractor', 0.3367982804775238), ('immersive', 0.3263373076915741), ('unauthorized', 0.315006822347641), ('pain', 0.3149413466453552)], 'ful': [('tj09killer', 0.4351574182510376), ('borat69696969', 0.42213571071624756), ('steel', 0.4150253236293793), ('ahhh', 0.40009185671806335), ('bushfire', 0.38704177737236023)], 'coulda': [('5230824505', 0.48429468274116516), ('forcibly', 0.46739980578422546), ('ohare', 0.4668639302253723), ('alrdy', 0.4519475996494293), ('resurrect', 0.4486442804336548)], 'mystic': [('tampa', 0.9700880646705627), ('prescott', 0.9528505802154541), ('mille', 0.7303482294082642), ('leonard', 0.620937168598175), ('lac', 0.5628246665000916)], 'packaging': [('yoongi', 0.35864871740341187), ('prettiest', 0.3563614785671234), ('medusa', 0.3447946012020111), ('leslie', 0.3392302989959717), ('35295', 0.336393266916275)], 'lahm': [('cantona', 0.9035118222236633), ('wingback', 0.39434814453125), ('gian', 0.3912108838558197), ('penn', 0.3853602111339569), ('agent', 0.3845490515232086)], 'hotline': [('infiltrate', 0.947580873966217), ('exploitation', 0.5222692489624023), ('protrump', 0.48695647716522217), ('nytimescom', 0.45038655400276184), ('clog', 0.4389847218990326)], 'joel': [('disinformation', 0.6026210188865662), ('protrump', 0.5210841298103333), ('exec', 0.49764886498451233), ('questionable', 0.3742596507072449), ('lightsaber', 0.3603249192237854)], 'rubbish': [('trash', 0.40371108055114746), ('thrash', 0.38354232907295227), ('insecure', 0.3659326434135437), ('originally', 0.3621165454387665), ('okay', 0.3611799478530884)], 'pleased': [('organiser', 0.44796374440193176), ('excited', 0.4188464283943176), ('scifi', 0.40076687932014465), ('delighted', 0.39945194125175476), ('glad', 0.3782760798931122)], 'ddddd': [('bengal', 0.45697033405303955), ('loop', 0.4064176678657532), ('restore', 0.38304606080055237), ('pollinator', 0.3621193468570709), ('productivity', 0.3565954566001892)], 'ability': [('corrosive', 0.4211181104183197), ('conditioning', 0.4069734215736389), ('overwatchlike', 0.3888498544692993), ('temperature', 0.370842844247818), ('scarcity', 0.36001989245414734)], 'love': [('amazing', 0.532766580581665), ('good', 0.4425327479839325), ('thank', 0.4370404779911041), ('fun', 0.4079822897911072), ('great', 0.4039057791233063)], 'exchange': [('recommendation', 0.39132335782051086), ('rcr', 0.3800644278526306), ('promotion', 0.36184823513031006), ('2000s', 0.3583718538284302), ('449', 0.3443535268306732)], 'track': [('tflop', 0.39872053265571594), ('ascension', 0.36734408140182495), ('nerfe', 0.3585534691810608), ('yield', 0.3168298900127411), ('exclusive', 0.3104044198989868)], 'caitlyn': [('cucufate', 0.5635254979133606), ('ackshully', 0.4122682809829712), ('jimin', 0.3842412233352661), ('qss', 0.36973780393600464), ('surpass', 0.3413705825805664)], 'revenant': [('offlane', 0.4615929126739502), ('wip', 0.3699379861354828), ('olympic', 0.3667159974575043), ('richard', 0.35351452231407166), ('dvd', 0.35292840003967285)], 'redirect': [('quota', 0.6956815123558044), ('cust', 0.6575023531913757), ('addon', 0.5891513228416443), ('consent', 0.5149127840995789), ('accountability', 0.42050760984420776)], 'sunt': [('elegiac', 0.9150347709655762), ('melancholy', 0.8107532858848572), ('romania', 0.47849610447883606), ('thiz', 0.38063761591911316), ('borat', 0.36856454610824585)], 'daioh': [('azumanga', 0.9081146121025085), ('armenian', 0.3885490298271179), ('erdogan', 0.37722089886665344), ('robbie', 0.37646186351776123), ('aadil', 0.37513166666030884)], 'hardware': [('afghanistan', 0.3620341122150421), ('silence', 0.35349351167678833), ('artwork', 0.3318183422088623), ('confirm', 0.3301372826099396), ('cybersecurity', 0.3294055163860321)], 'canofworm': [('bookshop', 0.5518180727958679), ('kibbon', 0.507421612739563), ('caroline', 0.45927900075912476), ('paperli', 0.4485425353050232), ('musing', 0.4350423812866211)], 'mechathun': [('thaurissan', 0.9423969388008118), ('dorian', 0.8858143091201782), ('firestarter', 0.7651828527450562), ('unclear', 0.7501183748245239), ('combo', 0.3782239258289337)], 'crore': [('rapid', 0.3867266774177551), ('additional', 0.3731517195701599), ('reimburse', 0.3675614893436432), ('subscription', 0.34078162908554077), ('youth', 0.3399921953678131)], 'bestfriend': [('hay', 0.3633904755115509), ('arwyn', 0.35099756717681885), ('di', 0.324345201253891), ('titanfall', 0.31504425406455994), ('lmg', 0.31104394793510437)], '50': [('remote', 0.3959615230560303), ('josh', 0.37529972195625305), ('three', 0.37115252017974854), ('15', 0.35083943605422974), ('advise', 0.33614808320999146)], 'momentarily': [('druggie', 0.34169256687164307), ('unproductive', 0.33981913328170776), ('ipad', 0.3321053683757782), ('iso', 0.3127292990684509), ('ence', 0.30818819999694824)]}\n"
     ]
    }
   ],
   "source": [
    "print(similar_cbows)"
   ]
  },
  {
   "cell_type": "code",
   "execution_count": 97,
   "metadata": {},
   "outputs": [
    {
     "name": "stdout",
     "output_type": "stream",
     "text": [
      "{'t2': [('regional', 0.7074952125549316), ('qualification', 0.6130450367927551), ('traumatic', 0.5065072774887085), ('tu2', 0.4919734001159668), ('allison', 0.48176512122154236)], 'easy': [('mahome', 0.5209107995033264), ('findomme', 0.47492820024490356), ('finsub', 0.46765103936195374), ('ebonydom', 0.4595891237258911), ('2k5', 0.45640650391578674)], 'introduce': [('graduate', 0.4993053674697876), ('templar', 0.4901749789714813), ('precovid', 0.4826473891735077), ('spirit', 0.45967328548431396), ('armello', 0.44556528329849243)], '4x': [('timeless', 0.9961769580841064), ('nozdormu', 0.9952422976493835), ('unfortunately', 0.5142267346382141), ('sadly', 0.4835242033004761), ('unsuccessful', 0.4793263375759125)], 'apk': [('apps', 0.5343271493911743), ('www', 0.532996654510498), ('pmoindia', 0.49767598509788513), ('download', 0.47311827540397644), ('gamesradar', 0.47128674387931824)], 'speechless': [('nibble', 0.7284930348396301), ('61', 0.5616869330406189), ('pour', 0.5089097619056702), ('unblockkkk', 0.455728143453598), ('studentathlete', 0.45246443152427673)], 'gen': [('gene', 0.5967937111854553), ('156inch', 0.5717886090278625), ('nitro', 0.5495917201042175), ('nextgen', 0.5310565829277039), ('ddr3l', 0.5288020372390747)], 'versus': [('ritual', 0.5305045247077942), ('somebodys', 0.5017420649528503), ('maman', 0.4792223870754242), ('customization', 0.47325485944747925), ('keynote', 0.45152366161346436)], 'chin': [('hammer', 0.5672325491905212), ('upfield', 0.5133543610572815), ('zuni', 0.4896934926509857), ('rng', 0.4812624156475067), ('underrate', 0.48039793968200684)], 'ful': [('saebyeolbe', 0.5286669135093689), ('sign', 0.4551473557949066), ('creativity', 0.4510836601257324), ('cinder', 0.439399391412735), ('flawless', 0.4391153156757355)], 'coulda': [('msi', 0.5229527354240417), ('pug', 0.4947037994861603), ('infact', 0.49397677183151245), ('ohhhh', 0.48867517709732056), ('reputational', 0.4856795370578766)], 'mystic': [('tampa', 0.9899476766586304), ('prescott', 0.9821473956108093), ('mille', 0.9006031155586243), ('leonard', 0.7646132707595825), ('ivan', 0.7569015622138977)], 'packaging': [('morale', 0.5081637501716614), ('initially', 0.45916587114334106), ('doodle', 0.4517627954483032), ('dryer', 0.4408903419971466), ('rdna', 0.4339042603969574)], 'lahm': [('cantona', 0.9506068229675293), ('dhop', 0.536151111125946), ('high', 0.5141240954399109), ('tampa', 0.49501168727874756), ('mystic', 0.49232426285743713)], 'hotline': [('infiltrate', 0.9389896392822266), ('antitrafficke', 0.7298623919487), ('clog', 0.666386067867279), ('tec', 0.6642703413963318), ('exploitation', 0.6263501644134521)], 'joel': [('disinformation', 0.6321137547492981), ('protrump', 0.6180855631828308), ('ref', 0.5012983083724976), ('exec', 0.49223485589027405), ('harassment', 0.47117993235588074)], 'rubbish': [('468', 0.47458940744400024), ('menu', 0.4478427469730377), ('battlenet', 0.44534987211227417), ('backkkkkkk', 0.4415948987007141), ('8x', 0.43887922167778015)], 'pleased': [('exclamation', 0.5894061326980591), ('volvic', 0.584344744682312), ('salivate', 0.5495924949645996), ('announce', 0.5442007780075073), ('organiser', 0.5367514491081238)], 'ddddd': [('ais', 0.5107117295265198), ('kar', 0.4904155135154724), ('airbnb', 0.48166126012802124), ('designator', 0.47805723547935486), ('haircut', 0.4758237302303314)], 'ability': [('overwatchlike', 0.5135846734046936), ('scarcity', 0.48695939779281616), ('corrosive', 0.4845033288002014), ('shadowrun', 0.4779215455055237), ('singlefamily', 0.4682457149028778)], 'love': [('much', 0.5821834802627563), ('like', 0.5378924012184143), ('also', 0.5342797636985779), ('khalifa', 0.5333924889564514), ('atumn', 0.530627429485321)], 'exchange': [('449', 0.5535736680030823), ('nadieauxstreams', 0.4967781901359558), ('minotaur', 0.44121652841567993), ('uncommon', 0.43545064330101013), ('bestseason', 0.4350011348724365)], 'track': [('tracking', 0.5568114519119263), ('ravenscraft', 0.505376935005188), ('cve20201464', 0.4855940341949463), ('install', 0.48311349749565125), ('nyse', 0.46655982732772827)], 'caitlyn': [('cucufate', 0.7372639775276184), ('pool', 0.527416467666626), ('snack', 0.47966158390045166), ('kidding', 0.4683939516544342), ('flopper', 0.4505325257778168)], 'revenant': [('reddeadredem', 0.49496641755104065), ('bew', 0.4907376766204834), ('adcs', 0.4852696359157562), ('splatter', 0.4830641448497772), ('bt', 0.44910335540771484)], 'redirect': [('accountability', 0.7484024167060852), ('quota', 0.7154874801635742), ('addon', 0.7040228247642517), ('cust', 0.7028566598892212), ('astounding', 0.6743791699409485)], 'sunt': [('elegiac', 0.9028794765472412), ('melancholy', 0.8675374388694763), ('beneath', 0.5781430006027222), ('romania', 0.5230718851089478), ('wingman', 0.5040674805641174)], 'daioh': [('azumanga', 0.9346255660057068), ('immeasurable', 0.528149425983429), ('bich', 0.5198302865028381), ('aadil', 0.5110860466957092), ('generation', 0.5040134191513062)], 'hardware': [('optional', 0.5661718249320984), ('software', 0.5063664317131042), ('optimise', 0.485981285572052), ('proprietary', 0.4809676706790924), ('duhh', 0.47661828994750977)], 'canofworm': [('kibbon', 0.6399883031845093), ('brewsquad', 0.6126874089241028), ('fabien', 0.6029865145683289), ('rmvp', 0.59891676902771), ('henon', 0.5948301553726196)], 'mechathun': [('thaurissan', 0.987453043460846), ('dorian', 0.9765976071357727), ('firestarter', 0.9506782293319702), ('unclear', 0.8589138388633728), ('nutty', 0.7087022066116333)], 'crore': [('rupee', 0.6277498006820679), ('rapid', 0.5530955791473389), ('loan', 0.5368136763572693), ('wto', 0.529900848865509), ('rs', 0.5008859038352966)], 'bestfriend': [('to', 0.49440997838974), ('broseph', 0.4881018102169037), ('hylissang', 0.45868298411369324), ('nuff', 0.4566914439201355), ('cartel', 0.44825688004493713)], '50': [('134', 0.5259115695953369), ('midday', 0.49525532126426697), ('penalty', 0.4930921792984009), ('dividend', 0.46782180666923523), ('increase', 0.4662100672721863)], 'momentarily': [('ironically', 0.5649972558021545), ('await', 0.523208737373352), ('hea', 0.5139825940132141), ('hearing', 0.5115949511528015), ('grill', 0.4920192360877991)]}\n"
     ]
    }
   ],
   "source": [
    "print(similar_skgrm)"
   ]
  },
  {
   "cell_type": "code",
   "execution_count": 98,
   "metadata": {},
   "outputs": [],
   "source": [
    "def plot_embeddings(model, words):\n",
    "    word_vectors = [model.wv[word] for word in words]\n",
    "    pca = PCA(n_components=2)\n",
    "    result = pca.fit_transform(word_vectors)\n",
    "\n",
    "    plt.figure(figsize=(8, 6))\n",
    "    for i, word in enumerate(words):\n",
    "        plt.scatter(result[i, 0], result[i, 1])\n",
    "        plt.annotate(word, xy=(result[i, 0], result[i, 1]))\n",
    "    plt.show()"
   ]
  },
  {
   "cell_type": "code",
   "execution_count": 99,
   "metadata": {},
   "outputs": [
    {
     "data": {
      "image/png": "[encoded data removed]",
      "text/plain": [
       "<Figure size 800x600 with 1 Axes>"
      ]
     },
     "metadata": {},
     "output_type": "display_data"
    },
    {
     "data": {
      "image/png": "[encoded data removed]",
      "text/plain": [
       "<Figure size 800x600 with 1 Axes>"
      ]
     },
     "metadata": {},
     "output_type": "display_data"
    }
   ],
   "source": [
    "words = ['king', 'man', 'woman', 'queen']\n",
    "\n",
    "plot_embeddings(word2vec_cbow, words)\n",
    "plot_embeddings(word2vec_skgrm, words)"
   ]
  },
  {
   "cell_type": "code",
   "execution_count": 100,
   "metadata": {},
   "outputs": [
    {
     "name": "stdout",
     "output_type": "stream",
     "text": [
      "[('arias', 0.5711310505867004), ('taa', 0.5083791017532349), ('soprano', 0.5061912536621094), ('classical', 0.4939297139644623), ('cassandra', 0.48540163040161133)]\n"
     ]
    }
   ],
   "source": [
    "print(word2vec_skgrm.wv.most_similar(positive = ['king', 'woman'], topn = 5))"
   ]
  }
 ],
 "metadata": {
  "kernelspec": {
   "display_name": "venv_nlp",
   "language": "python",
   "name": "python3"
  },
  "language_info": {
   "codemirror_mode": {
    "name": "ipython",
    "version": 3
   },
   "file_extension": ".py",
   "mimetype": "text/x-python",
   "name": "python",
   "nbconvert_exporter": "python",
   "pygments_lexer": "ipython3",
   "version": "3.12.2"
  }
 },
 "nbformat": 4,
 "nbformat_minor": 2
}
