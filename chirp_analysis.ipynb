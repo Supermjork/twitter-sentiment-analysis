{
 "cells": [
  {
   "cell_type": "code",
   "execution_count": 1,
   "metadata": {},
   "outputs": [],
   "source": [
    "# Importing libraries to work with\n",
    "import re\n",
    "import os\n",
    "import nltk\n",
    "import spacy\n",
    "import torch\n",
    "import random\n",
    "import numpy as np\n",
    "import scipy as sci\n",
    "import polars as pl\n",
    "import pandas as pd\n",
    "import gensim as gns\n",
    "import seaborn as sns\n",
    "import matplotlib as mpl\n",
    "import matplotlib.pyplot as plt\n",
    "\n",
    "# For the sake of Preprocessing\n",
    "from nltk.stem import WordNetLemmatizer\n",
    "from nltk.tokenize import word_tokenize\n",
    "\n",
    "# Word Embedding\n",
    "from gensim.models import Word2Vec\n",
    "from gensim.models import KeyedVectors\n",
    "\n",
    "# Sklearn\n",
    "from sklearn.decomposition import PCA"
   ]
  },
  {
   "cell_type": "code",
   "execution_count": 2,
   "metadata": {},
   "outputs": [
    {
     "name": "stdout",
     "output_type": "stream",
     "text": [
      "NumPy Version: 1.26.4\n",
      "Polars Version: 1.12.0\n",
      "MatPlotLib Version: 3.9.2\n",
      "Seaborn Version: 0.13.2\n",
      "PyTorch Version: 2.5.1+cpu\n",
      "NLTK Version: 3.9.1\n",
      "SpaCy Version: 3.8.2\n",
      "Gensim Version: 4.3.3\n",
      "SciPy Version: 1.13.1\n"
     ]
    }
   ],
   "source": [
    "# Display the libraries' versions used in this notebook\n",
    "version_list = {\"NumPy Version:\": np.__version__,\n",
    "                \"Polars Version:\": pl.__version__,\n",
    "                \"MatPlotLib Version:\": mpl.__version__,\n",
    "                \"Seaborn Version:\": sns.__version__,\n",
    "                \"PyTorch Version:\": torch.__version__,\n",
    "                \"NLTK Version:\": nltk.__version__,\n",
    "                \"SpaCy Version:\": spacy.__version__,\n",
    "                \"Gensim Version:\": gns.__version__,\n",
    "                \"SciPy Version:\": sci.__version__}\n",
    "\n",
    "for (k, v) in version_list.items():\n",
    "    print(k, v)"
   ]
  },
  {
   "cell_type": "code",
   "execution_count": 3,
   "metadata": {},
   "outputs": [
    {
     "name": "stdout",
     "output_type": "stream",
     "text": [
      "Directory Exists.\n",
      "Punctuation Data Exists.\n",
      "Stopwords Package Exists.\n",
      "Wordnet Package Exists.\n"
     ]
    }
   ],
   "source": [
    "# Defining path to install NLTK libraries in\n",
    "NLTK_LIB_PATH = \".\\\\venv_nlp\\\\Lib\\\\nltk_data\"\n",
    "\n",
    "# Defining download function\n",
    "def download_libs():\n",
    "    # Download extra parts of the library to use\n",
    "    try:\n",
    "        nltk.data.find(\"tokenizers\\\\punkt.zip\")                     # Punctuation\n",
    "        print(\"Punctuation Data Exists.\")\n",
    "    except LookupError:\n",
    "        nltk.download('punkt', download_dir = NLTK_LIB_PATH)\n",
    "\n",
    "    try:\n",
    "        nltk.data.find(\"corpora\\\\stopwords.zip\")                    # Stopwords\n",
    "        print(\"Stopwords Package Exists.\")\n",
    "    except LookupError:\n",
    "        nltk.download('stopwords', download_dir = NLTK_LIB_PATH)\n",
    "\n",
    "    try:\n",
    "        nltk.data.find(\"corpora\\\\wordnet.zip\")                      # Corpus\n",
    "        print(\"Wordnet Package Exists.\")\n",
    "    except LookupError:\n",
    "        nltk.download('wordnet', download_dir = NLTK_LIB_PATH)\n",
    "\n",
    "try:\n",
    "    os.mkdir(NLTK_LIB_PATH)\n",
    "\n",
    "    print(\"Directory for NLTK Packages Created.. Installing (Hopefully)\")\n",
    "    download_libs()\n",
    "except FileExistsError:\n",
    "    print(\"Directory Exists.\")\n",
    "    download_libs()\n",
    "except:\n",
    "    print(\"Couldn't Make Directory.\")\n",
    "    exit()"
   ]
  },
  {
   "cell_type": "markdown",
   "metadata": {},
   "source": [
    "# Data Loading\n",
    "Importing our csv into our workspace."
   ]
  },
  {
   "cell_type": "code",
   "execution_count": 4,
   "metadata": {},
   "outputs": [],
   "source": [
    "# Loading dataframe\n",
    "text_data = pl.read_csv(\"datasets/twitter_training.csv\", has_header=False, new_columns = [\"tweet_id\", \"entity\", \"sentiment\", \"tweet_content\"])"
   ]
  },
  {
   "cell_type": "code",
   "execution_count": 5,
   "metadata": {},
   "outputs": [
    {
     "data": {
      "text/html": [
       "<div><style>\n",
       ".dataframe > thead > tr,\n",
       ".dataframe > tbody > tr {\n",
       "  text-align: right;\n",
       "  white-space: pre-wrap;\n",
       "}\n",
       "</style>\n",
       "<small>shape: (10, 4)</small><table border=\"1\" class=\"dataframe\"><thead><tr><th>tweet_id</th><th>entity</th><th>sentiment</th><th>tweet_content</th></tr><tr><td>i64</td><td>str</td><td>str</td><td>str</td></tr></thead><tbody><tr><td>2401</td><td>&quot;Borderlands&quot;</td><td>&quot;Positive&quot;</td><td>&quot;im getting on borderlands and …</td></tr><tr><td>2401</td><td>&quot;Borderlands&quot;</td><td>&quot;Positive&quot;</td><td>&quot;I am coming to the borders and…</td></tr><tr><td>2401</td><td>&quot;Borderlands&quot;</td><td>&quot;Positive&quot;</td><td>&quot;im getting on borderlands and …</td></tr><tr><td>2401</td><td>&quot;Borderlands&quot;</td><td>&quot;Positive&quot;</td><td>&quot;im coming on borderlands and i…</td></tr><tr><td>2401</td><td>&quot;Borderlands&quot;</td><td>&quot;Positive&quot;</td><td>&quot;im getting on borderlands 2 an…</td></tr><tr><td>2401</td><td>&quot;Borderlands&quot;</td><td>&quot;Positive&quot;</td><td>&quot;im getting into borderlands an…</td></tr><tr><td>2402</td><td>&quot;Borderlands&quot;</td><td>&quot;Positive&quot;</td><td>&quot;So I spent a few hours making …</td></tr><tr><td>2402</td><td>&quot;Borderlands&quot;</td><td>&quot;Positive&quot;</td><td>&quot;So I spent a couple of hours d…</td></tr><tr><td>2402</td><td>&quot;Borderlands&quot;</td><td>&quot;Positive&quot;</td><td>&quot;So I spent a few hours doing s…</td></tr><tr><td>2402</td><td>&quot;Borderlands&quot;</td><td>&quot;Positive&quot;</td><td>&quot;So I spent a few hours making …</td></tr></tbody></table></div>"
      ],
      "text/plain": [
       "shape: (10, 4)\n",
       "┌──────────┬─────────────┬───────────┬─────────────────────────────────┐\n",
       "│ tweet_id ┆ entity      ┆ sentiment ┆ tweet_content                   │\n",
       "│ ---      ┆ ---         ┆ ---       ┆ ---                             │\n",
       "│ i64      ┆ str         ┆ str       ┆ str                             │\n",
       "╞══════════╪═════════════╪═══════════╪═════════════════════════════════╡\n",
       "│ 2401     ┆ Borderlands ┆ Positive  ┆ im getting on borderlands and … │\n",
       "│ 2401     ┆ Borderlands ┆ Positive  ┆ I am coming to the borders and… │\n",
       "│ 2401     ┆ Borderlands ┆ Positive  ┆ im getting on borderlands and … │\n",
       "│ 2401     ┆ Borderlands ┆ Positive  ┆ im coming on borderlands and i… │\n",
       "│ 2401     ┆ Borderlands ┆ Positive  ┆ im getting on borderlands 2 an… │\n",
       "│ 2401     ┆ Borderlands ┆ Positive  ┆ im getting into borderlands an… │\n",
       "│ 2402     ┆ Borderlands ┆ Positive  ┆ So I spent a few hours making … │\n",
       "│ 2402     ┆ Borderlands ┆ Positive  ┆ So I spent a couple of hours d… │\n",
       "│ 2402     ┆ Borderlands ┆ Positive  ┆ So I spent a few hours doing s… │\n",
       "│ 2402     ┆ Borderlands ┆ Positive  ┆ So I spent a few hours making … │\n",
       "└──────────┴─────────────┴───────────┴─────────────────────────────────┘"
      ]
     },
     "execution_count": 5,
     "metadata": {},
     "output_type": "execute_result"
    }
   ],
   "source": [
    "# Viewing first 10 rows\n",
    "text_data.head(10)"
   ]
  },
  {
   "cell_type": "code",
   "execution_count": 6,
   "metadata": {},
   "outputs": [
    {
     "data": {
      "text/html": [
       "<div><style>\n",
       ".dataframe > thead > tr,\n",
       ".dataframe > tbody > tr {\n",
       "  text-align: right;\n",
       "  white-space: pre-wrap;\n",
       "}\n",
       "</style>\n",
       "<small>shape: (9, 5)</small><table border=\"1\" class=\"dataframe\"><thead><tr><th>statistic</th><th>tweet_id</th><th>entity</th><th>sentiment</th><th>tweet_content</th></tr><tr><td>str</td><td>f64</td><td>str</td><td>str</td><td>str</td></tr></thead><tbody><tr><td>&quot;count&quot;</td><td>74682.0</td><td>&quot;74682&quot;</td><td>&quot;74682&quot;</td><td>&quot;73996&quot;</td></tr><tr><td>&quot;null_count&quot;</td><td>0.0</td><td>&quot;0&quot;</td><td>&quot;0&quot;</td><td>&quot;686&quot;</td></tr><tr><td>&quot;mean&quot;</td><td>6432.586165</td><td>null</td><td>null</td><td>null</td></tr><tr><td>&quot;std&quot;</td><td>3740.42787</td><td>null</td><td>null</td><td>null</td></tr><tr><td>&quot;min&quot;</td><td>1.0</td><td>&quot;Amazon&quot;</td><td>&quot;Irrelevant&quot;</td><td>&quot; &quot;</td></tr><tr><td>&quot;25%&quot;</td><td>3195.0</td><td>null</td><td>null</td><td>null</td></tr><tr><td>&quot;50%&quot;</td><td>6422.0</td><td>null</td><td>null</td><td>null</td></tr><tr><td>&quot;75%&quot;</td><td>9601.0</td><td>null</td><td>null</td><td>null</td></tr><tr><td>&quot;max&quot;</td><td>13200.0</td><td>&quot;johnson&amp;johnson&quot;</td><td>&quot;Positive&quot;</td><td>&quot;🧻 at Home Depot on Hanley... I…</td></tr></tbody></table></div>"
      ],
      "text/plain": [
       "shape: (9, 5)\n",
       "┌────────────┬─────────────┬─────────────────┬────────────┬─────────────────────────────────┐\n",
       "│ statistic  ┆ tweet_id    ┆ entity          ┆ sentiment  ┆ tweet_content                   │\n",
       "│ ---        ┆ ---         ┆ ---             ┆ ---        ┆ ---                             │\n",
       "│ str        ┆ f64         ┆ str             ┆ str        ┆ str                             │\n",
       "╞════════════╪═════════════╪═════════════════╪════════════╪═════════════════════════════════╡\n",
       "│ count      ┆ 74682.0     ┆ 74682           ┆ 74682      ┆ 73996                           │\n",
       "│ null_count ┆ 0.0         ┆ 0               ┆ 0          ┆ 686                             │\n",
       "│ mean       ┆ 6432.586165 ┆ null            ┆ null       ┆ null                            │\n",
       "│ std        ┆ 3740.42787  ┆ null            ┆ null       ┆ null                            │\n",
       "│ min        ┆ 1.0         ┆ Amazon          ┆ Irrelevant ┆                                 │\n",
       "│ 25%        ┆ 3195.0      ┆ null            ┆ null       ┆ null                            │\n",
       "│ 50%        ┆ 6422.0      ┆ null            ┆ null       ┆ null                            │\n",
       "│ 75%        ┆ 9601.0      ┆ null            ┆ null       ┆ null                            │\n",
       "│ max        ┆ 13200.0     ┆ johnson&johnson ┆ Positive   ┆ 🧻 at Home Depot on Hanley...   │\n",
       "│            ┆             ┆                 ┆            ┆ I…                              │\n",
       "└────────────┴─────────────┴─────────────────┴────────────┴─────────────────────────────────┘"
      ]
     },
     "execution_count": 6,
     "metadata": {},
     "output_type": "execute_result"
    }
   ],
   "source": [
    "# Checking for nulls\n",
    "text_data.describe()"
   ]
  },
  {
   "cell_type": "markdown",
   "metadata": {},
   "source": [
    "Considering our Null count within the tweet content column is practically $<1\\%$ (to be exact $0.927\\%$), we can safely drop those rows"
   ]
  },
  {
   "cell_type": "code",
   "execution_count": 7,
   "metadata": {},
   "outputs": [],
   "source": [
    "# Dropping nulls\n",
    "text_data = text_data.drop_nulls('tweet_content')\n",
    "text_data = text_data.drop('tweet_id')"
   ]
  },
  {
   "cell_type": "code",
   "execution_count": 8,
   "metadata": {},
   "outputs": [
    {
     "data": {
      "text/html": [
       "<div><style>\n",
       ".dataframe > thead > tr,\n",
       ".dataframe > tbody > tr {\n",
       "  text-align: right;\n",
       "  white-space: pre-wrap;\n",
       "}\n",
       "</style>\n",
       "<small>shape: (9, 4)</small><table border=\"1\" class=\"dataframe\"><thead><tr><th>statistic</th><th>entity</th><th>sentiment</th><th>tweet_content</th></tr><tr><td>str</td><td>str</td><td>str</td><td>str</td></tr></thead><tbody><tr><td>&quot;count&quot;</td><td>&quot;73996&quot;</td><td>&quot;73996&quot;</td><td>&quot;73996&quot;</td></tr><tr><td>&quot;null_count&quot;</td><td>&quot;0&quot;</td><td>&quot;0&quot;</td><td>&quot;0&quot;</td></tr><tr><td>&quot;mean&quot;</td><td>null</td><td>null</td><td>null</td></tr><tr><td>&quot;std&quot;</td><td>null</td><td>null</td><td>null</td></tr><tr><td>&quot;min&quot;</td><td>&quot;Amazon&quot;</td><td>&quot;Irrelevant&quot;</td><td>&quot; &quot;</td></tr><tr><td>&quot;25%&quot;</td><td>null</td><td>null</td><td>null</td></tr><tr><td>&quot;50%&quot;</td><td>null</td><td>null</td><td>null</td></tr><tr><td>&quot;75%&quot;</td><td>null</td><td>null</td><td>null</td></tr><tr><td>&quot;max&quot;</td><td>&quot;johnson&amp;johnson&quot;</td><td>&quot;Positive&quot;</td><td>&quot;🧻 at Home Depot on Hanley... I…</td></tr></tbody></table></div>"
      ],
      "text/plain": [
       "shape: (9, 4)\n",
       "┌────────────┬─────────────────┬────────────┬─────────────────────────────────┐\n",
       "│ statistic  ┆ entity          ┆ sentiment  ┆ tweet_content                   │\n",
       "│ ---        ┆ ---             ┆ ---        ┆ ---                             │\n",
       "│ str        ┆ str             ┆ str        ┆ str                             │\n",
       "╞════════════╪═════════════════╪════════════╪═════════════════════════════════╡\n",
       "│ count      ┆ 73996           ┆ 73996      ┆ 73996                           │\n",
       "│ null_count ┆ 0               ┆ 0          ┆ 0                               │\n",
       "│ mean       ┆ null            ┆ null       ┆ null                            │\n",
       "│ std        ┆ null            ┆ null       ┆ null                            │\n",
       "│ min        ┆ Amazon          ┆ Irrelevant ┆                                 │\n",
       "│ 25%        ┆ null            ┆ null       ┆ null                            │\n",
       "│ 50%        ┆ null            ┆ null       ┆ null                            │\n",
       "│ 75%        ┆ null            ┆ null       ┆ null                            │\n",
       "│ max        ┆ johnson&johnson ┆ Positive   ┆ 🧻 at Home Depot on Hanley...   │\n",
       "│            ┆                 ┆            ┆ I…                              │\n",
       "└────────────┴─────────────────┴────────────┴─────────────────────────────────┘"
      ]
     },
     "execution_count": 8,
     "metadata": {},
     "output_type": "execute_result"
    }
   ],
   "source": [
    "# Viewing the available rows and their information\n",
    "text_data.describe()"
   ]
  },
  {
   "cell_type": "markdown",
   "metadata": {},
   "source": [
    "# Preprocessing\n",
    "Preprocessing the text so it's somewhat cleaner than when obtianed, so that the model doesn't struggle (Instead, we will :D )."
   ]
  },
  {
   "cell_type": "code",
   "execution_count": 9,
   "metadata": {},
   "outputs": [],
   "source": [
    "# Create a stopword set\n",
    "stopwords = set(nltk.corpus.stopwords.words('english'))\n",
    "stopwords.add(\"im\")"
   ]
  },
  {
   "cell_type": "code",
   "execution_count": 10,
   "metadata": {},
   "outputs": [],
   "source": [
    "# Define a regex function to remove special characters, links, etc.\n",
    "def regex_cleanse(text: str):\n",
    "    # URLS\n",
    "    text = re.sub(r'https\\S+', '', text)\n",
    "\n",
    "    # @<username>\n",
    "    text = re.sub(r'@\\w+', '', text)\n",
    "\n",
    "    # #<word>\n",
    "    text = re.sub(r'#\\w+', '', text)\n",
    "\n",
    "    # One character that doesn't belong to word or whitespace\n",
    "    text = re.sub(r'[^\\w\\s]', '', text)\n",
    "\n",
    "    # Attempt to remove linked pictures URLs\n",
    "    text = re.sub(r'pic\\w+', '', text)\n",
    "    text = \" \".join([word for word in text.split() if word not in stopwords])\n",
    "\n",
    "    return text"
   ]
  },
  {
   "cell_type": "code",
   "execution_count": 11,
   "metadata": {},
   "outputs": [],
   "source": [
    "# Tokenisation Function\n",
    "def tokeniser(text):\n",
    "    return word_tokenize(text)"
   ]
  },
  {
   "cell_type": "code",
   "execution_count": 12,
   "metadata": {},
   "outputs": [],
   "source": [
    "# Loading language model\n",
    "model = spacy.load('en_core_web_sm')\n",
    "\n",
    "# Lemmatiser\n",
    "def lemma(tokens):\n",
    "    doc = model(tokens)\n",
    "    return [token.lemma_ for token in doc]"
   ]
  },
  {
   "cell_type": "code",
   "execution_count": 13,
   "metadata": {},
   "outputs": [],
   "source": [
    "# Removing emojis\n",
    "def remove_emoji(string):\n",
    "    emoji_pattern = re.compile(\"[\"\n",
    "                           u\"\\U0001F600-\\U0001F64F\"  # emoticons\n",
    "                           u\"\\U0001F300-\\U0001F5FF\"  # symbols & pictographs\n",
    "                           u\"\\U0001F680-\\U0001F6FF\"  # transport & map symbols\n",
    "                           u\"\\U0001F1E0-\\U0001F1FF\"  # flags (iOS)\n",
    "                           u\"\\U00002702-\\U000027B0\"\n",
    "                           u\"\\U000024C2-\\U0001F251\"\n",
    "                           \"]+\", flags=re.UNICODE)\n",
    "    return emoji_pattern.sub(r'', string)"
   ]
  },
  {
   "cell_type": "code",
   "execution_count": 14,
   "metadata": {},
   "outputs": [],
   "source": [
    "# Define a text preprocessing function to apply to all rows\n",
    "def preprocess_text(text: str) -> list[str]:\n",
    "    text = regex_cleanse(text.lower())\n",
    "    text = remove_emoji(text)\n",
    "    text = lemma(text)\n",
    "    #text = tokeniser(text)\n",
    "    return text"
   ]
  },
  {
   "cell_type": "code",
   "execution_count": 15,
   "metadata": {},
   "outputs": [],
   "source": [
    "# Creating a cleaned-preprocessed dataset\n",
    "cleaned = text_data.with_columns(pl.col('tweet_content').map_elements(preprocess_text, return_dtype = list[str]))"
   ]
  },
  {
   "cell_type": "code",
   "execution_count": 16,
   "metadata": {},
   "outputs": [
    {
     "data": {
      "text/html": [
       "<div><style>\n",
       ".dataframe > thead > tr,\n",
       ".dataframe > tbody > tr {\n",
       "  text-align: right;\n",
       "  white-space: pre-wrap;\n",
       "}\n",
       "</style>\n",
       "<small>shape: (5, 3)</small><table border=\"1\" class=\"dataframe\"><thead><tr><th>entity</th><th>sentiment</th><th>tweet_content</th></tr><tr><td>str</td><td>str</td><td>list[str]</td></tr></thead><tbody><tr><td>&quot;Borderlands&quot;</td><td>&quot;Positive&quot;</td><td>[&quot;get&quot;, &quot;borderland&quot;, &quot;murder&quot;]</td></tr><tr><td>&quot;Borderlands&quot;</td><td>&quot;Positive&quot;</td><td>[&quot;come&quot;, &quot;border&quot;, &quot;kill&quot;]</td></tr><tr><td>&quot;Borderlands&quot;</td><td>&quot;Positive&quot;</td><td>[&quot;get&quot;, &quot;borderland&quot;, &quot;kill&quot;]</td></tr><tr><td>&quot;Borderlands&quot;</td><td>&quot;Positive&quot;</td><td>[&quot;come&quot;, &quot;borderland&quot;, &quot;murder&quot;]</td></tr><tr><td>&quot;Borderlands&quot;</td><td>&quot;Positive&quot;</td><td>[&quot;get&quot;, &quot;borderland&quot;, … &quot;murder&quot;]</td></tr></tbody></table></div>"
      ],
      "text/plain": [
       "shape: (5, 3)\n",
       "┌─────────────┬───────────┬─────────────────────────────────┐\n",
       "│ entity      ┆ sentiment ┆ tweet_content                   │\n",
       "│ ---         ┆ ---       ┆ ---                             │\n",
       "│ str         ┆ str       ┆ list[str]                       │\n",
       "╞═════════════╪═══════════╪═════════════════════════════════╡\n",
       "│ Borderlands ┆ Positive  ┆ [\"get\", \"borderland\", \"murder\"… │\n",
       "│ Borderlands ┆ Positive  ┆ [\"come\", \"border\", \"kill\"]      │\n",
       "│ Borderlands ┆ Positive  ┆ [\"get\", \"borderland\", \"kill\"]   │\n",
       "│ Borderlands ┆ Positive  ┆ [\"come\", \"borderland\", \"murder… │\n",
       "│ Borderlands ┆ Positive  ┆ [\"get\", \"borderland\", … \"murde… │\n",
       "└─────────────┴───────────┴─────────────────────────────────┘"
      ]
     },
     "execution_count": 16,
     "metadata": {},
     "output_type": "execute_result"
    }
   ],
   "source": [
    "# Viewing\n",
    "cleaned.head()"
   ]
  },
  {
   "cell_type": "markdown",
   "metadata": {},
   "source": [
    "# Word Embedding\n",
    "Word Embedding"
   ]
  },
  {
   "cell_type": "code",
   "execution_count": 17,
   "metadata": {},
   "outputs": [
    {
     "data": {
      "text/plain": [
       "['get', 'borderland', 'murder']"
      ]
     },
     "execution_count": 17,
     "metadata": {},
     "output_type": "execute_result"
    }
   ],
   "source": [
    "# Creating a series of vectors from every sentence\n",
    "model_ready_text = cleaned['tweet_content'].to_list()\n",
    "\n",
    "model_ready_text[0]"
   ]
  },
  {
   "cell_type": "code",
   "execution_count": 18,
   "metadata": {},
   "outputs": [],
   "source": [
    "# Training a Continuous Bag of Words, Word Embedding\n",
    "word2vec_cbow = Word2Vec(model_ready_text, vector_size = 100,  sg = 0, workers = 10, window = 16, epochs = 250)"
   ]
  },
  {
   "cell_type": "code",
   "execution_count": 19,
   "metadata": {},
   "outputs": [
    {
     "data": {
      "text/plain": [
       "array([ 2.9187078 , -2.8632224 , -1.5731263 ,  4.2711    , -2.5893445 ,\n",
       "       -6.6238008 ,  0.1972445 ,  2.032532  , -3.9472957 , -6.3592067 ,\n",
       "       -0.6651833 , -5.674704  , -1.6342089 ,  3.4912648 ,  1.7045335 ,\n",
       "       -3.6955848 ,  1.9060289 , -1.1324079 ,  3.0814545 ,  1.4049727 ,\n",
       "        1.1929644 ,  2.3034725 ,  0.17310964,  5.9894056 , -3.5407465 ,\n",
       "        1.8129396 ,  3.414097  ,  1.4975497 , -4.8631644 , -6.50134   ,\n",
       "       -3.7376375 ,  0.45761782,  5.1261945 ,  2.2594132 ,  9.323994  ,\n",
       "       -3.437899  ,  3.8470955 , -1.7975073 ,  1.8201766 ,  2.4635715 ,\n",
       "        2.7958305 ,  1.3302921 , -5.9084444 ,  0.21604608, -3.2088933 ,\n",
       "        0.2073987 ,  6.748099  , -4.6700296 ,  0.90672123, -1.9903733 ,\n",
       "       -3.7549686 ,  4.577297  , -0.9598898 ,  0.33428442, -2.9933672 ,\n",
       "        3.9071276 ,  8.546591  , -0.8041341 , -6.428418  , -3.1306276 ,\n",
       "        0.41002354, -0.83988786, -4.3120522 ,  4.872617  ,  9.897372  ,\n",
       "       -1.4443083 ,  3.252214  , -2.385814  , -3.173611  , -4.8511524 ,\n",
       "        1.045612  ,  4.062278  , -2.713535  ,  1.673111  , -7.403528  ,\n",
       "       -1.1411295 ,  2.4285283 , -0.86666596, -3.7761831 , -5.378212  ,\n",
       "       -0.6629111 , -2.4439237 ,  1.6440945 , -8.73834   , -3.8281417 ,\n",
       "       -2.0255113 ,  8.57145   , -0.04837478, -0.8635402 ,  1.9776052 ,\n",
       "       -1.3768651 ,  3.3103108 ,  5.5012374 ,  7.307353  , -6.3522415 ,\n",
       "        7.5294976 , -1.5780039 , -1.3584111 , -1.9555025 ,  0.49879077],\n",
       "      dtype=float32)"
      ]
     },
     "execution_count": 19,
     "metadata": {},
     "output_type": "execute_result"
    }
   ],
   "source": [
    "# Viewing the vector for the word\n",
    "word2vec_cbow.wv['nvidia']"
   ]
  },
  {
   "cell_type": "code",
   "execution_count": 20,
   "metadata": {},
   "outputs": [],
   "source": [
    "# Training a Skip-gram Word Embedding\n",
    "word2vec_skgrm = Word2Vec(model_ready_text, vector_size = 100, sg = 1, workers = 10, window = 16, epochs = 250)"
   ]
  },
  {
   "cell_type": "code",
   "execution_count": 21,
   "metadata": {},
   "outputs": [
    {
     "data": {
      "text/plain": [
       "array([ 8.38009566e-02,  1.67866707e-01, -1.39117613e-01, -1.36212990e-01,\n",
       "        1.28338113e-01, -8.86888504e-01, -2.15114146e-01, -1.52489394e-01,\n",
       "        2.04362497e-01, -1.35722965e-01, -4.35480922e-01,  1.00038059e-01,\n",
       "       -3.74835059e-02, -5.19343205e-02,  3.10490131e-01, -6.40948594e-01,\n",
       "        5.15884124e-02, -6.45748675e-01, -3.60881388e-02, -1.66551068e-01,\n",
       "       -4.46409285e-01, -8.57569650e-02,  5.94624341e-01, -1.82589486e-01,\n",
       "        1.06174581e-01,  3.14755678e-01, -3.32736850e-01,  4.03264984e-02,\n",
       "       -1.44942299e-01, -5.54852545e-01, -2.52516329e-01,  4.76743311e-01,\n",
       "       -5.67594409e-01,  9.69214812e-02, -6.67172670e-02,  5.35372421e-02,\n",
       "        2.32522503e-01,  1.97030023e-01, -1.84488565e-01, -3.75527203e-01,\n",
       "        1.08864248e-01, -3.53963882e-01,  2.52968043e-01, -1.05132088e-01,\n",
       "        2.75218487e-01,  2.07365602e-01,  1.44475847e-01,  9.44734663e-02,\n",
       "       -3.37878168e-01,  4.46471334e-01, -1.45692036e-01, -3.38525236e-01,\n",
       "        4.02318716e-01,  2.28103712e-01, -3.72534126e-01,  1.82303607e-01,\n",
       "       -2.65918076e-01,  3.98606688e-01, -1.93474025e-01,  1.12036362e-01,\n",
       "       -7.71026313e-02,  5.44676222e-02, -2.65420645e-01,  3.11485916e-01,\n",
       "       -5.00659049e-01,  3.39759618e-01,  1.19256645e-01, -2.35792413e-01,\n",
       "       -4.19434547e-01, -5.06152749e-01, -9.34955105e-02, -9.77625418e-03,\n",
       "        8.65477547e-02, -3.31343740e-01,  4.04394418e-03, -8.55262280e-02,\n",
       "       -1.28105313e-01,  5.50019480e-02, -5.05995691e-01, -1.15074813e-01,\n",
       "        2.15039123e-02,  1.97869852e-01, -1.58589825e-01,  2.07524821e-01,\n",
       "       -3.07317436e-01,  3.46412420e-01, -5.15565753e-01,  3.49672675e-01,\n",
       "        1.87204257e-01, -9.03285369e-02,  3.31563979e-01, -2.69721705e-03,\n",
       "        3.21695298e-01, -1.41297296e-01,  7.73129985e-02,  8.04599896e-02,\n",
       "       -3.94494302e-04, -5.86803138e-01,  1.44769102e-01, -2.27290004e-01],\n",
       "      dtype=float32)"
      ]
     },
     "execution_count": 21,
     "metadata": {},
     "output_type": "execute_result"
    }
   ],
   "source": [
    "word2vec_skgrm.wv['nvidia']"
   ]
  },
  {
   "cell_type": "code",
   "execution_count": 23,
   "metadata": {},
   "outputs": [
    {
     "data": {
      "text/plain": [
       "12157"
      ]
     },
     "execution_count": 23,
     "metadata": {},
     "output_type": "execute_result"
    }
   ],
   "source": [
    "corpus = list(word2vec_cbow.wv.key_to_index)\n",
    "\n",
    "len(corpus)"
   ]
  },
  {
   "cell_type": "code",
   "execution_count": 26,
   "metadata": {},
   "outputs": [
    {
     "name": "stdout",
     "output_type": "stream",
     "text": [
      "['игры', 'и', '½', '¹', '³', '²', 'zuni', 'zuldazar', 'zuckerpuck', 'zuckerberg', 'zuck', 'zsmitty', 'zprio', 'zpmbie', 'zork']\n"
     ]
    }
   ],
   "source": [
    "most_frequent = []\n",
    "\n",
    "for word in corpus:\n",
    "    most_frequent.append(word)\n",
    "\n",
    "most_frequent.sort(reverse = True)\n",
    "\n",
    "print(most_frequent[:15])"
   ]
  },
  {
   "cell_type": "code",
   "execution_count": 27,
   "metadata": {},
   "outputs": [],
   "source": [
    "def plot_embeddings(model, words):\n",
    "    word_vectors = [model.wv[word] for word in words]\n",
    "    pca = PCA(n_components=2)\n",
    "    result = pca.fit_transform(word_vectors)\n",
    "\n",
    "    plt.figure(figsize=(8, 6))\n",
    "    for i, word in enumerate(words):\n",
    "        plt.scatter(result[i, 0], result[i, 1])\n",
    "        plt.annotate(word, xy=(result[i, 0], result[i, 1]))\n",
    "    plt.show()"
   ]
  },
  {
   "cell_type": "code",
   "execution_count": 42,
   "metadata": {},
   "outputs": [
    {
     "data": {
      "image/png": "[encoded data removed]",
      "text/plain": [
       "<Figure size 800x600 with 1 Axes>"
      ]
     },
     "metadata": {},
     "output_type": "display_data"
    },
    {
     "data": {
      "image/png": "[encoded data removed]",
      "text/plain": [
       "<Figure size 800x600 with 1 Axes>"
      ]
     },
     "metadata": {},
     "output_type": "display_data"
    }
   ],
   "source": [
    "words = ['zuck', 'zuckerpuck', 'zuckerberg', 'queen']\n",
    "\n",
    "plot_embeddings(word2vec_cbow, corpus[:20])\n",
    "plot_embeddings(word2vec_skgrm, corpus[:20])"
   ]
  },
  {
   "cell_type": "code",
   "execution_count": 43,
   "metadata": {},
   "outputs": [
    {
     "name": "stdout",
     "output_type": "stream",
     "text": [
      "[('taa', 0.5597708225250244), ('arias', 0.5395371913909912), ('soprano', 0.4914137125015259), ('34399', 0.4768923223018646), ('cassandra', 0.47524797916412354)]\n"
     ]
    }
   ],
   "source": [
    "print(word2vec_skgrm.wv.most_similar(positive = ['king', 'woman'], topn = 5))"
   ]
  }
 ],
 "metadata": {
  "kernelspec": {
   "display_name": "venv_nlp",
   "language": "python",
   "name": "python3"
  },
  "language_info": {
   "codemirror_mode": {
    "name": "ipython",
    "version": 3
   },
   "file_extension": ".py",
   "mimetype": "text/x-python",
   "name": "python",
   "nbconvert_exporter": "python",
   "pygments_lexer": "ipython3",
   "version": "3.12.2"
  }
 },
 "nbformat": 4,
 "nbformat_minor": 2
}
